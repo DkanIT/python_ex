{
 "cells": [
  {
   "cell_type": "markdown",
   "id": "fa822290",
   "metadata": {},
   "source": [
    "# Exercise 4.1"
   ]
  },
  {
   "cell_type": "code",
   "execution_count": 59,
   "id": "48e19892",
   "metadata": {
    "scrolled": true
   },
   "outputs": [
    {
     "name": "stdout",
     "output_type": "stream",
     "text": [
      "[4, 5, 6]\n"
     ]
    }
   ],
   "source": [
    "def list_p(l):\n",
    "    print(list(l));\n",
    "m=[4,5,6]\n",
    "list_p(m)\n"
   ]
  },
  {
   "cell_type": "code",
   "execution_count": 62,
   "id": "20862dd6",
   "metadata": {},
   "outputs": [
    {
     "name": "stdout",
     "output_type": "stream",
     "text": [
      "6\n",
      "5\n",
      "4\n"
     ]
    }
   ],
   "source": [
    "def revlist(l):\n",
    "    for i in range(len(l)):\n",
    "        print(l[len(l)-(i+1)])\n",
    "revlist(m)"
   ]
  },
  {
   "cell_type": "code",
   "execution_count": 47,
   "id": "705a0537",
   "metadata": {},
   "outputs": [
    {
     "name": "stdout",
     "output_type": "stream",
     "text": [
      "3\n"
     ]
    }
   ],
   "source": [
    "i=0 #declare counter\n",
    "for x in m:\n",
    "    i+=1 #update counter adding 1 each time for each item\n",
    "print(i)\n"
   ]
  },
  {
   "cell_type": "markdown",
   "id": "45ca0d83",
   "metadata": {},
   "source": [
    "# Exercise 4.2 "
   ]
  },
  {
   "cell_type": "code",
   "execution_count": 13,
   "id": "7d2cf3f4",
   "metadata": {},
   "outputs": [
    {
     "name": "stdout",
     "output_type": "stream",
     "text": [
      "Enter number of elements : \n",
      "3\n",
      "Enter element : \n",
      "1\n",
      "Enter element : \n",
      "2\n",
      "Enter element : \n",
      "4\n",
      "['1', '2', '4']\n"
     ]
    }
   ],
   "source": [
    "a = [ ] \n",
    "print(\"Enter number of elements : \")\n",
    "n = input()\n",
    "for i in range(int(n)): \n",
    "    print(\"Enter element : \")\n",
    "    a.append(input()) \n",
    "      \n",
    "print(a)"
   ]
  },
  {
   "cell_type": "code",
   "execution_count": 14,
   "id": "e83ec062",
   "metadata": {},
   "outputs": [
    {
     "name": "stdout",
     "output_type": "stream",
     "text": [
      "['1', '2', '4']\n"
     ]
    }
   ],
   "source": [
    "b=a\n",
    "print(b)"
   ]
  },
  {
   "cell_type": "code",
   "execution_count": 15,
   "id": "5947e528",
   "metadata": {
    "scrolled": true
   },
   "outputs": [
    {
     "name": "stdout",
     "output_type": "stream",
     "text": [
      "3\n"
     ]
    }
   ],
   "source": [
    "b[1]=3\n",
    "print(b[1])"
   ]
  },
  {
   "cell_type": "code",
   "execution_count": 16,
   "id": "ac0dce16",
   "metadata": {},
   "outputs": [
    {
     "name": "stdout",
     "output_type": "stream",
     "text": [
      "['1', 3, '4']\n"
     ]
    }
   ],
   "source": [
    "print(a) #it changes becuase we equalized them"
   ]
  },
  {
   "cell_type": "code",
   "execution_count": 17,
   "id": "8ca92873",
   "metadata": {},
   "outputs": [],
   "source": [
    "c = a[:]"
   ]
  },
  {
   "cell_type": "code",
   "execution_count": 18,
   "id": "ffca5a3c",
   "metadata": {},
   "outputs": [
    {
     "name": "stdout",
     "output_type": "stream",
     "text": [
      "['1', 3, 9]\n"
     ]
    }
   ],
   "source": [
    "c[2]=9\n",
    "print(c)"
   ]
  },
  {
   "cell_type": "code",
   "execution_count": 19,
   "id": "2e03a649",
   "metadata": {},
   "outputs": [
    {
     "name": "stdout",
     "output_type": "stream",
     "text": [
      "['1', 3, '4']\n"
     ]
    }
   ],
   "source": [
    "print(a) #a still same because we coppied a to c with all index"
   ]
  },
  {
   "cell_type": "code",
   "execution_count": 20,
   "id": "2e3d740d",
   "metadata": {},
   "outputs": [
    {
     "name": "stdout",
     "output_type": "stream",
     "text": [
      "[1, 2, 3, 4, 5]\n",
      "[0, 2, 3, 4, 5]\n"
     ]
    }
   ],
   "source": [
    "def set_first_elem_to_zero(l):\n",
    "    l[0]=0\n",
    "    return l\n",
    "\n",
    "list = [1,2,3,4,5]\n",
    "print(list)#original list\n",
    "print(set_first_elem_to_zero(list))"
   ]
  },
  {
   "cell_type": "markdown",
   "id": "7364d625",
   "metadata": {},
   "source": [
    "# Exercise 4.3"
   ]
  },
  {
   "cell_type": "code",
   "execution_count": 30,
   "id": "468c6c14",
   "metadata": {
    "scrolled": true
   },
   "outputs": [
    {
     "name": "stdout",
     "output_type": "stream",
     "text": [
      "[[], [], [], []]\n"
     ]
    }
   ],
   "source": [
    "a = [[]] * 4\n",
    "print(a)"
   ]
  },
  {
   "cell_type": "code",
   "execution_count": 31,
   "id": "ed8439e6",
   "metadata": {},
   "outputs": [
    {
     "ename": "NameError",
     "evalue": "name 'xrange' is not defined",
     "output_type": "error",
     "traceback": [
      "\u001b[1;31m---------------------------------------------------------------------------\u001b[0m",
      "\u001b[1;31mNameError\u001b[0m                                 Traceback (most recent call last)",
      "\u001b[1;32m~\\AppData\\Local\\Temp/ipykernel_41524/3953359344.py\u001b[0m in \u001b[0;36m<module>\u001b[1;34m\u001b[0m\n\u001b[1;32m----> 1\u001b[1;33m \u001b[0mb\u001b[0m \u001b[1;33m=\u001b[0m \u001b[1;33m[\u001b[0m\u001b[1;33m[\u001b[0m\u001b[1;33m]\u001b[0m \u001b[1;32mfor\u001b[0m \u001b[0m_\u001b[0m \u001b[1;32min\u001b[0m \u001b[0mxrange\u001b[0m\u001b[1;33m(\u001b[0m\u001b[1;36m4\u001b[0m\u001b[1;33m)\u001b[0m\u001b[1;33m]\u001b[0m\u001b[1;33m\u001b[0m\u001b[1;33m\u001b[0m\u001b[0m\n\u001b[0m\u001b[0;32m      2\u001b[0m \u001b[0mprint\u001b[0m\u001b[1;33m(\u001b[0m\u001b[0mb\u001b[0m\u001b[1;33m)\u001b[0m\u001b[1;33m\u001b[0m\u001b[1;33m\u001b[0m\u001b[0m\n\u001b[0;32m      3\u001b[0m \u001b[1;31m#difference between we\u001b[0m\u001b[1;33m\u001b[0m\u001b[1;33m\u001b[0m\u001b[0m\n",
      "\u001b[1;31mNameError\u001b[0m: name 'xrange' is not defined"
     ]
    }
   ],
   "source": [
    "b = [[] for _ in xrange(4)]\n",
    "print(b)\n",
    "#firstly xrange must be defined but the difference between them is xrange create lazy load areas "
   ]
  },
  {
   "cell_type": "markdown",
   "id": "a1deba71",
   "metadata": {},
   "source": [
    "# Exercise 4.4"
   ]
  },
  {
   "cell_type": "code",
   "execution_count": 32,
   "id": "a7984b31",
   "metadata": {},
   "outputs": [
    {
     "name": "stdout",
     "output_type": "stream",
     "text": [
      "[1, 2, 0]\n"
     ]
    }
   ],
   "source": [
    "def cindex(l,i):\n",
    "    if(i<len(l)): #index must be inside len l of list\n",
    "        l[i]=0\n",
    "l=[1,2,3]\n",
    "cindex(l,2)\n",
    "print(l)\n",
    "        "
   ]
  },
  {
   "cell_type": "markdown",
   "id": "76d835af",
   "metadata": {},
   "source": [
    "# Exercise 4.5\n",
    " "
   ]
  },
  {
   "cell_type": "code",
   "execution_count": 7,
   "id": "5de81764",
   "metadata": {},
   "outputs": [
    {
     "name": "stdout",
     "output_type": "stream",
     "text": [
      "The prime numbers:  [2, 3, 5, 7, 11]\n"
     ]
    }
   ],
   "source": [
    "def prime(y): #I already done it with list because I can print from list easily\n",
    "    prime_list = []\n",
    "    for i in range(y):\n",
    "        if i == 0 or i == 1:\n",
    "            continue\n",
    "        else:\n",
    "            for j in range(2, int(i/2)+1):\n",
    "                if i % j == 0:\n",
    "                    break\n",
    "            else:\n",
    "                prime_list.append(i)\n",
    "    return prime_list\n",
    "lst = prime(13)\n",
    "if len(lst) == 0:\n",
    "    print(\"There aren't any prime numbers in this range\")\n",
    "else:\n",
    "    print(\"The prime numbers: \", lst)"
   ]
  },
  {
   "cell_type": "markdown",
   "id": "1d09c024",
   "metadata": {},
   "source": [
    "# Exercise 4.6"
   ]
  },
  {
   "cell_type": "code",
   "execution_count": 16,
   "id": "b251a947",
   "metadata": {},
   "outputs": [
    {
     "name": "stdout",
     "output_type": "stream",
     "text": [
      "write input i: \n",
      "3\n",
      "write input j: \n",
      "2\n",
      "[]\n"
     ]
    }
   ],
   "source": [
    "lgen=[]  #there is no def about if \n",
    "print('write input i: ')\n",
    "i=input()\n",
    "print('write input j: ')\n",
    "j=input()\n",
    "for z in range(int(i),int(j)):\n",
    "    lgen.append(z)\n",
    "print(lgen)  "
   ]
  },
  {
   "cell_type": "code",
   "execution_count": 18,
   "id": "d8f439af",
   "metadata": {},
   "outputs": [
    {
     "name": "stdout",
     "output_type": "stream",
     "text": [
      "write input i: \n",
      "3\n",
      "write input j: \n",
      "1\n",
      "[]\n"
     ]
    }
   ],
   "source": [
    "lgen2=[]\n",
    "print('write input i: ')\n",
    "i=input()\n",
    "print('write input j: ')\n",
    "j=input()\n",
    "if(int(i)<int(j)):\n",
    "    for z in range(int(i),int(j)): #i<j so we can use them like start and end\n",
    "        lgen2.append(z)\n",
    "print(lgen2)  "
   ]
  },
  {
   "cell_type": "code",
   "execution_count": null,
   "id": "2244102d",
   "metadata": {},
   "outputs": [],
   "source": [
    "lgen2=[]\n",
    "print('write input i: ')\n",
    "i=input()\n",
    "print('write input j: ')\n",
    "j=input()\n",
    "if(int(i)<int(j)):\n",
    "    for z in range(int(i),int(j)): #i<j so we can use them like start and end\n",
    "        lgen2.append(z)\n",
    "print(lgen2)  "
   ]
  },
  {
   "cell_type": "markdown",
   "id": "93f1d375",
   "metadata": {},
   "source": [
    "# Exercise 4.7"
   ]
  },
  {
   "cell_type": "code",
   "execution_count": 23,
   "id": "daefd478",
   "metadata": {},
   "outputs": [
    {
     "name": "stdout",
     "output_type": "stream",
     "text": [
      "[6, 13, 12, 14, 12, 31, 23]\n",
      "[6, 13, 12, 14, 12, 31, 23]\n"
     ]
    }
   ],
   "source": [
    "theoldlist=[3,4,5,6,1,2,3,4,13,12,14,12,31,23]\n",
    "thenewlist1 = filter(lambda x: x > 5, theoldlist) #we keep as filter result\n",
    "thenewlist2 = [x for x in theoldlist if x > 5] #we keep it as list\n",
    "print(list(thenewlist1)) #we should print as list \n",
    "print(thenewlist2)"
   ]
  },
  {
   "cell_type": "markdown",
   "id": "cc8c95f5",
   "metadata": {},
   "source": [
    "# Exercise 4.8"
   ]
  },
  {
   "cell_type": "code",
   "execution_count": 35,
   "id": "dbc4b736",
   "metadata": {},
   "outputs": [
    {
     "name": "stdout",
     "output_type": "stream",
     "text": [
      "[1, 3, 3, 6]\n"
     ]
    }
   ],
   "source": [
    "list48=[[1,3],[3,6]]\n",
    "list48n=[]\n",
    "for x in range(len(list48)):\n",
    "    for y in range(len(list48[x])):\n",
    "        list48n.append(list48[x][y])\n",
    "print(list48n)"
   ]
  },
  {
   "cell_type": "markdown",
   "id": "6a1437f6",
   "metadata": {},
   "source": [
    "# Exercise 4.9"
   ]
  },
  {
   "cell_type": "code",
   "execution_count": null,
   "id": "4d039a0e",
   "metadata": {},
   "outputs": [],
   "source": [
    "s= “Hello, how was the football match earlier today???”\n"
   ]
  },
  {
   "cell_type": "markdown",
   "id": "feba81ec",
   "metadata": {},
   "source": [
    "# Exercise 4.10"
   ]
  },
  {
   "cell_type": "code",
   "execution_count": 13,
   "id": "f6cf7279",
   "metadata": {},
   "outputs": [
    {
     "name": "stdout",
     "output_type": "stream",
     "text": [
      "[1000000, 500000, 250000, 125000, 62500, 31250, 15625, 46876, 23438, 11719, 35158, 17579, 52738, 26369, 79108, 39554, 19777, 59332, 29666, 14833, 44500, 22250, 11125, 33376, 16688, 8344, 4172, 2086, 1043, 3130, 1565, 4696, 2348, 1174, 587, 1762, 881, 2644, 1322, 661, 1984, 992, 496, 248, 124, 62, 31, 94, 47, 142, 71, 214, 107, 322, 161, 484, 242, 121, 364, 182, 91, 274, 137, 412, 206, 103, 310, 155, 466, 233, 700, 350, 175, 526, 263, 790, 395, 1186, 593, 1780, 890, 445, 1336, 668, 334, 167, 502, 251, 754, 377, 1132, 566, 283, 850, 425, 1276, 638, 319, 958, 479, 1438, 719, 2158, 1079, 3238, 1619, 4858, 2429, 7288, 3644, 1822, 911, 2734, 1367, 4102, 2051, 6154, 3077, 9232, 4616, 2308, 1154, 577, 1732, 866, 433, 1300, 650, 325, 976, 488, 244, 122, 61, 184, 92, 46, 23, 70, 35, 106, 53, 160, 80, 40, 20, 10, 5, 16, 8, 4, 2]\n"
     ]
    }
   ],
   "source": [
    "coll= []\n",
    "def collatzSequence(n): \n",
    "    while n != 1: #we make n equals new variable and n can not be smaller than zero\n",
    "        coll.append(n)\n",
    "        if n %2 == 1: #odd check\n",
    "            n = 3 * n + 1\n",
    "        else: #else is even \n",
    "            n = n // 2\n",
    "collatzSequence(1000000)\n",
    "print(coll)"
   ]
  },
  {
   "cell_type": "code",
   "execution_count": 17,
   "id": "1d04ba29",
   "metadata": {},
   "outputs": [
    {
     "name": "stdout",
     "output_type": "stream",
     "text": [
      "837799\n"
     ]
    }
   ],
   "source": [
    "def longestx(n):\n",
    "    # to cache the values\n",
    "    hc = {n: 0 for n in range(1,1000000)}\n",
    "    # initial values\n",
    "    hc[1] = 1\n",
    "    hc[2] = 2\n",
    "    # looping through the numbers\n",
    "    for n in range(3,1000000):\n",
    "        counter = 0\n",
    "        current = n\n",
    "        while n > 1:\n",
    "            if n < current:\n",
    "                hc[current] = hc[n] + counter\n",
    "                break\n",
    "            if n%2 == 0:\n",
    "                n = n/2\n",
    "                counter += 1\n",
    "            else:\n",
    "                n = 3*n+1\n",
    "                counter += 1\n",
    "    print(list(hc.values()).index(max(hc.values()))+1)\n",
    "longestx(1000000)"
   ]
  },
  {
   "cell_type": "markdown",
   "id": "88a54f0c",
   "metadata": {},
   "source": [
    "# Exercise 4.11"
   ]
  },
  {
   "cell_type": "code",
   "execution_count": 9,
   "id": "16b752c7",
   "metadata": {},
   "outputs": [
    {
     "name": "stdout",
     "output_type": "stream",
     "text": [
      "[3, 9, 4, 11, 14, 16, 12, 13, 20, 21]\n"
     ]
    }
   ],
   "source": [
    "lx=11\n",
    "listx=[3,14,16,12,13,20,21,9,4]\n",
    "def orderl(i,j):\n",
    "    ls=[]\n",
    "    lb=[]\n",
    "    newl=[]\n",
    "    for k in range(len(j)):\n",
    "        if(j[k]<lx):\n",
    "            ls.append(j[k])\n",
    "        else:\n",
    "            lb.append(j[k]) \n",
    "#loops end in here we add lx end of the smallers list after add each list together and assign on \"newl\"\n",
    "    ls.append(lx) \n",
    "    newl=ls+lb\n",
    "    print(newl)\n",
    "orderl(lx,listx)"
   ]
  },
  {
   "cell_type": "markdown",
   "id": "0018ba87",
   "metadata": {},
   "source": [
    "# Exercise 4.12\n"
   ]
  },
  {
   "cell_type": "code",
   "execution_count": null,
   "id": "bbecff13",
   "metadata": {},
   "outputs": [],
   "source": [
    "lst = filter(lambda x: len(list(filter(lambda n: x % n != 0, range(2, x)))) == x - 2, range(n))"
   ]
  }
 ],
 "metadata": {
  "kernelspec": {
   "display_name": "Python 3 (ipykernel)",
   "language": "python",
   "name": "python3"
  },
  "language_info": {
   "codemirror_mode": {
    "name": "ipython",
    "version": 3
   },
   "file_extension": ".py",
   "mimetype": "text/x-python",
   "name": "python",
   "nbconvert_exporter": "python",
   "pygments_lexer": "ipython3",
   "version": "3.9.7"
  }
 },
 "nbformat": 4,
 "nbformat_minor": 5
}
