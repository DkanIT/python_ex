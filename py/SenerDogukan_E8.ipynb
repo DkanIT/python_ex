{
 "cells": [
  {
   "cell_type": "markdown",
   "id": "a64b6f0f",
   "metadata": {},
   "source": [
    "# Exercise 8.1"
   ]
  },
  {
   "cell_type": "code",
   "execution_count": null,
   "id": "0fddb969",
   "metadata": {},
   "outputs": [],
   "source": [
    "import math\n",
    "class Rational:\n",
    "    def __init__(self,p,q=1):\n",
    "        if q == 0:\n",
    "            raise ValueError('Denominator must not be zero')\n",
    "        if not isinstance(p, int):\n",
    "            raise TypeError('Numerator must be an integer')\n",
    "        if not isinstance(q, int):\n",
    "            raise TypeError('Denominator must be an integer')\n",
    "        \n",
    "        g = math.gcd(p, q)\n",
    "        \n",
    "        self.p = p // g\n",
    "        self.q = q // g\n",
    "        \n",
    "    def __add__(self, other):\n",
    "        return Rational(self.p * other.q + other.p * self.q, self.q * other.q)\n",
    "    \n",
    "    def __sub__(self, other):\n",
    "        return self + Rational(-other.p,other.q)\n",
    "    \n",
    "    def __mul__(self, other):\n",
    "            return Rational(self.p*other.p,self.q*other.q)\n",
    "        \n",
    "    def __div__(self, other):\n",
    "            return Rational(self.p*other.q,self.q*other.p)\n",
    "    \n",
    "    def __equal__(self,other):\n",
    "        if(self.q == other.p):\n",
    "            return 1\n",
    "        elif(self.q != other.p):\n",
    "            return 0\n",
    "    \n",
    "    def __float__(self):\n",
    "        return self.p / self.q\n",
    "    \n",
    "    def __repr__(self):\n",
    "        return f'Rational({self.p},{self.q})'\n",
    "a = Rational(10,20)\n",
    "b = Rational(10,2)\n",
    "c = Rational(25,5)\n",
    "print(a)\n",
    "print(a.__add__(b))\n",
    "print(b.__sub__(a))\n",
    "print(a.__mul__(b))\n",
    "print(a.__div__(b))\n",
    "print(a.__equal__(b))\n",
    "print(a.__float__())\n",
    "print(c.__float__())"
   ]
  }
 ],
 "metadata": {
  "kernelspec": {
   "display_name": "Python 3 (ipykernel)",
   "language": "python",
   "name": "python3"
  },
  "language_info": {
   "codemirror_mode": {
    "name": "ipython",
    "version": 3
   },
   "file_extension": ".py",
   "mimetype": "text/x-python",
   "name": "python",
   "nbconvert_exporter": "python",
   "pygments_lexer": "ipython3",
   "version": "3.9.7"
  }
 },
 "nbformat": 4,
 "nbformat_minor": 5
}
