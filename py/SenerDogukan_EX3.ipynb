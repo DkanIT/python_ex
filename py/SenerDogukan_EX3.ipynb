{
 "cells": [
  {
   "cell_type": "markdown",
   "id": "e6f82c13",
   "metadata": {},
   "source": [
    "# EX 3.1"
   ]
  },
  {
   "cell_type": "code",
   "execution_count": 1,
   "id": "5dd5c6d9",
   "metadata": {},
   "outputs": [
    {
     "name": "stdout",
     "output_type": "stream",
     "text": [
      "hello world\n"
     ]
    }
   ],
   "source": [
    "def my_func(): #function definition\n",
    "    print(\"hello world\") #this is not retun value we can get that when we call it using print\n",
    "my_func()"
   ]
  },
  {
   "cell_type": "code",
   "execution_count": 15,
   "id": "b5819e90",
   "metadata": {},
   "outputs": [
    {
     "data": {
      "text/plain": [
       "'hello Dogukan'"
      ]
     },
     "execution_count": 15,
     "metadata": {},
     "output_type": "execute_result"
    }
   ],
   "source": [
    "def my_func(name):\n",
    "    return(\"hello \"+ name) #can be string input or variab\n",
    "my_func(\"Dogukan\")"
   ]
  },
  {
   "cell_type": "code",
   "execution_count": 3,
   "id": "c9857d02",
   "metadata": {},
   "outputs": [
    {
     "data": {
      "text/plain": [
       "292"
      ]
     },
     "execution_count": 3,
     "metadata": {},
     "output_type": "execute_result"
    }
   ],
   "source": [
    "def poly(x):\n",
    "    return 3*(x**2)-x+2\n",
    "poly(10)"
   ]
  },
  {
   "cell_type": "markdown",
   "id": "2236a776",
   "metadata": {},
   "source": [
    "# EX 3.2"
   ]
  },
  {
   "cell_type": "code",
   "execution_count": 6,
   "id": "15fe335a",
   "metadata": {},
   "outputs": [
    {
     "data": {
      "text/plain": [
       "12"
      ]
     },
     "execution_count": 6,
     "metadata": {},
     "output_type": "execute_result"
    }
   ],
   "source": [
    "def polfunct(x):\n",
    "    return 3*(x**2)-x+2\n",
    "polfunct(2)"
   ]
  },
  {
   "cell_type": "markdown",
   "id": "3d14faf6",
   "metadata": {},
   "source": [
    "# EX 3.3"
   ]
  },
  {
   "cell_type": "code",
   "execution_count": 7,
   "id": "637667ba",
   "metadata": {},
   "outputs": [
    {
     "data": {
      "text/plain": [
       "80"
      ]
     },
     "execution_count": 7,
     "metadata": {},
     "output_type": "execute_result"
    }
   ],
   "source": [
    "def my_max(x,y):\n",
    "    if x>=y:\n",
    "        return x\n",
    "    else:\n",
    "        return y\n",
    "my_max(10,80)"
   ]
  },
  {
   "cell_type": "code",
   "execution_count": 5,
   "id": "91de4c5b",
   "metadata": {},
   "outputs": [
    {
     "data": {
      "text/plain": [
       "8"
      ]
     },
     "execution_count": 5,
     "metadata": {},
     "output_type": "execute_result"
    }
   ],
   "source": [
    "def my_max(x,y):\n",
    "    if x>=y:\n",
    "        return x\n",
    "    return y\n",
    "my_max(5,8)"
   ]
  },
  {
   "cell_type": "markdown",
   "id": "b9c226a7",
   "metadata": {},
   "source": [
    "# EX 3.4"
   ]
  },
  {
   "cell_type": "code",
   "execution_count": 18,
   "id": "56e9eab0",
   "metadata": {},
   "outputs": [
    {
     "name": "stdout",
     "output_type": "stream",
     "text": [
      "23 prime number\n"
     ]
    }
   ],
   "source": [
    "def is_prime(num):\n",
    "    if num > 1:\n",
    "        for i in range(2, int(num/2)):\n",
    "            if (num % i) == 0:\n",
    "                print(num, \"not prime number\")\n",
    "                break\n",
    "        else:\n",
    "            print(num, \"prime number\")\n",
    "    else:\n",
    "        print(num, \"not a prime number\")\n",
    "is_prime(23)"
   ]
  },
  {
   "cell_type": "code",
   "execution_count": 8,
   "id": "2861ab18",
   "metadata": {},
   "outputs": [
    {
     "data": {
      "text/plain": [
       "True"
      ]
     },
     "execution_count": 8,
     "metadata": {},
     "output_type": "execute_result"
    }
   ],
   "source": [
    "def is_prime(n) :\n",
    "    if (n <= 1) :\n",
    "        return False\n",
    "    if (n <= 3) :\n",
    "        return True\n",
    "   # This is checked so that we can skip\n",
    "   # middle five numbers in below loop\n",
    "    if (n % 2 == 0 or n % 3 == 0) :\n",
    "        return False\n",
    "\n",
    "    i = 4\n",
    "    while(i * i <= n) :\n",
    "        if (n % i == 0 or n % (i + 2) == 0) :\n",
    "            return False\n",
    "        i = i + 6\n",
    "\n",
    "    return True\n",
    "is_prime(23)"
   ]
  },
  {
   "cell_type": "code",
   "execution_count": 9,
   "id": "2a5c88e1",
   "metadata": {},
   "outputs": [
    {
     "data": {
      "text/plain": [
       "True"
      ]
     },
     "execution_count": 9,
     "metadata": {},
     "output_type": "execute_result"
    }
   ],
   "source": [
    "def is_prime(n) :\n",
    "    if (n <= 1):\n",
    "        return False\n",
    "    if (n <= 3):\n",
    "        return True\n",
    "    if (n % 2 == 0 or n % 3 == 0) :\n",
    "        return False\n",
    "\n",
    "    i = 5\n",
    "    while(i * i <= n) :\n",
    "        if (n % i == 0 or n % (i + 2) == 0) :\n",
    "            return False\n",
    "        i = i + 6\n",
    "\n",
    "    return True\n",
    "is_prime(31)"
   ]
  },
  {
   "cell_type": "code",
   "execution_count": 12,
   "id": "12ac6f02",
   "metadata": {},
   "outputs": [
    {
     "name": "stdout",
     "output_type": "stream",
     "text": [
      "The prime numbers:  [2, 3, 5, 7, 11]\n"
     ]
    }
   ],
   "source": [
    "def prime(y):\n",
    "    prime_list = []\n",
    "    for i in range(y):\n",
    "        if i == 0 or i == 1:\n",
    "            continue\n",
    "        else:\n",
    "            for j in range(2, int(i/2)+1):\n",
    "                if i % j == 0:\n",
    "                    break\n",
    "            else:\n",
    "                prime_list.append(i)\n",
    "    return prime_list\n",
    "lst = prime(13)\n",
    "if len(lst) == 0:\n",
    "    print(\"There aren't any prime numbers in this range\")\n",
    "else:\n",
    "    print(\"The prime numbers: \", lst)"
   ]
  },
  {
   "cell_type": "code",
   "execution_count": 13,
   "id": "2a819b0d",
   "metadata": {},
   "outputs": [
    {
     "name": "stdout",
     "output_type": "stream",
     "text": [
      "Prime numbers: 3 5 7 11 "
     ]
    }
   ],
   "source": [
    "numr=12\n",
    "print(\"Prime numbers:\",end=' ')\n",
    "\n",
    "for n in range(3,numr):\n",
    "\n",
    "    for i in range(2,n):\n",
    "\n",
    "        if(n%i==0):\n",
    "\n",
    "            break\n",
    "    else:\n",
    "        print(n,end=' ')   "
   ]
  },
  {
   "cell_type": "markdown",
   "id": "728fba5f",
   "metadata": {},
   "source": [
    "# EX 3.5"
   ]
  },
  {
   "cell_type": "code",
   "execution_count": 41,
   "id": "e681cc11",
   "metadata": {},
   "outputs": [
    {
     "name": "stdout",
     "output_type": "stream",
     "text": [
      "-2.0\n"
     ]
    }
   ],
   "source": [
    "#(a) The method is ready and (b) still obey the rule without assumptions\n",
    "# (c)\n",
    "def fun(x):\n",
    "    return -x;\n",
    "def root(f,a,b):\n",
    "    p = (a+b)/2;\n",
    "    FA = f(a);\n",
    "    FB = f(b);\n",
    "    FP = f(p);\n",
    "    if( FA*FP > 0):\n",
    "        a = p;\n",
    "        print(a)\n",
    "    elif( FB*FP > 0):\n",
    "        b = p;\n",
    "        print(b)\n",
    "    \n",
    "root(fun,-3,-1)"
   ]
  }
 ],
 "metadata": {
  "kernelspec": {
   "display_name": "Python 3 (ipykernel)",
   "language": "python",
   "name": "python3"
  },
  "language_info": {
   "codemirror_mode": {
    "name": "ipython",
    "version": 3
   },
   "file_extension": ".py",
   "mimetype": "text/x-python",
   "name": "python",
   "nbconvert_exporter": "python",
   "pygments_lexer": "ipython3",
   "version": "3.9.7"
  }
 },
 "nbformat": 4,
 "nbformat_minor": 5
}
