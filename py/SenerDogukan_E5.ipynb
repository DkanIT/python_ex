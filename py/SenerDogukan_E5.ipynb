{
 "cells": [
  {
   "cell_type": "markdown",
   "id": "8ec43092",
   "metadata": {},
   "source": [
    "# 5.1"
   ]
  },
  {
   "cell_type": "code",
   "execution_count": 6,
   "id": "adaa4bbb",
   "metadata": {},
   "outputs": [
    {
     "name": "stdout",
     "output_type": "stream",
     "text": [
      "6\n",
      "5\n"
     ]
    }
   ],
   "source": [
    "i=5\n",
    "j=6\n",
    "i,j=j,i\n",
    "print(i) \n",
    "print(j)\n"
   ]
  },
  {
   "cell_type": "markdown",
   "id": "69c0f00e",
   "metadata": {},
   "source": [
    "# 5.2\n"
   ]
  },
  {
   "cell_type": "code",
   "execution_count": 8,
   "id": "86e7b301",
   "metadata": {},
   "outputs": [
    {
     "data": {
      "text/plain": [
       "[(1, 1), (3, 4), (4, 5)]"
      ]
     },
     "execution_count": 8,
     "metadata": {},
     "output_type": "execute_result"
    }
   ],
   "source": [
    "x = {1,3,4}\n",
    "y = {4,5,1}\n",
    "list(zip(x, y))"
   ]
  },
  {
   "cell_type": "code",
   "execution_count": null,
   "id": "297c550c",
   "metadata": {},
   "outputs": [],
   "source": []
  }
 ],
 "metadata": {
  "kernelspec": {
   "display_name": "Python 3 (ipykernel)",
   "language": "python",
   "name": "python3"
  },
  "language_info": {
   "codemirror_mode": {
    "name": "ipython",
    "version": 3
   },
   "file_extension": ".py",
   "mimetype": "text/x-python",
   "name": "python",
   "nbconvert_exporter": "python",
   "pygments_lexer": "ipython3",
   "version": "3.9.7"
  }
 },
 "nbformat": 4,
 "nbformat_minor": 5
}
