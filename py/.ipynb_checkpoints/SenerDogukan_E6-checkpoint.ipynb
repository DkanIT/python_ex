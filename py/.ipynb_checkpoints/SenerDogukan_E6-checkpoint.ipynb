{
 "cells": [
  {
   "cell_type": "markdown",
   "id": "64fca7e8",
   "metadata": {},
   "source": [
    "# Exercise 6.1"
   ]
  },
  {
   "cell_type": "code",
   "execution_count": 11,
   "id": "0e76d372",
   "metadata": {},
   "outputs": [
    {
     "name": "stdout",
     "output_type": "stream",
     "text": [
      "model - Lenovo\n",
      "serial - Xca123aa\n",
      "key - 199231123\n"
     ]
    }
   ],
   "source": [
    "newdict = {\n",
    "  \"model\": \"Lenovo\",\n",
    "  \"serial\": \"Xca123aa\",\n",
    "  \"key\": 199231123\n",
    "}\n",
    "def prdict(dict): #function\n",
    "    for x in dict:\n",
    "        print(\"%s - %s\" %(x,dict[x]))\n",
    "        \n",
    "        \n",
    "prdict(newdict) #function call\n",
    "    "
   ]
  },
  {
   "cell_type": "markdown",
   "id": "371f328b",
   "metadata": {},
   "source": [
    "# Exercise 6.2"
   ]
  },
  {
   "cell_type": "code",
   "execution_count": 15,
   "id": "0a45d1af",
   "metadata": {},
   "outputs": [
    {
     "name": "stdout",
     "output_type": "stream",
     "text": [
      "0 - elma\n",
      "1 - armut\n",
      "2 - patates\n"
     ]
    }
   ],
   "source": [
    "clist=[\"elma\",\"armut\",\"patates\"]\n",
    "cdict={}\n",
    "def listtodict(llist,ddict):\n",
    "    for x in range(len(llist)):\n",
    "        ddict[x]=llist[x]\n",
    "listtodict(clist,cdict) #call function to create dictionary\n",
    "prdict(cdict) #I used my own function upside\n",
    "\n",
    "#python collections counter: We can use that becaus"
   ]
  },
  {
   "cell_type": "markdown",
   "id": "6a303611",
   "metadata": {},
   "source": [
    "# Exercise 6.3"
   ]
  },
  {
   "cell_type": "code",
   "execution_count": 18,
   "id": "26827cb8",
   "metadata": {},
   "outputs": [
    {
     "name": "stdout",
     "output_type": "stream",
     "text": [
      "Lenovo\n",
      "None\n"
     ]
    }
   ],
   "source": [
    "print(newdict.get(\"model\"))\n",
    "print(newdict.get(\"models\")) #return default value"
   ]
  },
  {
   "cell_type": "markdown",
   "id": "7d7e5193",
   "metadata": {},
   "source": [
    "# Exercise 6.4"
   ]
  },
  {
   "cell_type": "code",
   "execution_count": 17,
   "id": "2ff900cc",
   "metadata": {},
   "outputs": [
    {
     "name": "stdout",
     "output_type": "stream",
     "text": [
      "Lenovo\n",
      "None\n"
     ]
    }
   ],
   "source": [
    "import random\n",
    "import sys\n",
    "\n",
    "def process_line(line):\n",
    "    '''\n",
    "    Process a line of text to extract (state, new_word) pairs.\n",
    "    Note that we remove uppercase letters in this example, though\n",
    "    you don't have to.\n",
    "\n",
    "    Example:\n",
    "    process_line(\"In winter I get up at night\") =\n",
    "    [('BEGIN', 'in'),\n",
    "     ('in', 'winter'),\n",
    "     ('winter', 'i'),\n",
    "     ('i', 'get'),\n",
    "     ('get', 'up'),\n",
    "     ('up', 'at'),\n",
    "     ('at', 'night'),\n",
    "     ('night', 'END')]\n",
    "\n",
    "    We add the BEGIN and END keywords so that we can initialize the\n",
    "    sentence and know when the line ends.\n",
    "    '''\n",
    "\n",
    "    # YOUR CODE HERE #\n",
    "\n",
    "    pass\n",
    "\n",
    "def process_textfile(\"hola\"):\n",
    "    '''\n",
    "    Creates a dictionary with transition pairs\n",
    "    based on a file provided\n",
    "\n",
    "    For the first part of the assignment, we use a\n",
    "    placeholder text that you will have to replace\n",
    "    at some point.\n",
    "\n",
    "    Based on the placeholder text, the dictionary\n",
    "    should contain the following key-value pairs:\n",
    "\n",
    "    'blue,': ['END']\n",
    "    'by': ['yellow', 'day.', 'day?']\n",
    "    'still': ['hopping', 'going']\n",
    "    '''\n",
    "    d = {}\n",
    "\n",
    "    # Placeholder until we add File I/O in part two\n",
    "    # Overwrite the following lines with your code:\n",
    "    f = '''In winter I get up at night\n",
    "And dress by yellow candle-light.\n",
    "In summer quite the other way,\n",
    "I have to go to bed by day.\n",
    "\n",
    "I have to go to bed and see\n",
    "The birds still hopping on the tree,\n",
    "Or hear the grown-up people's feet\n",
    "Still going past me in the street.\n",
    "\n",
    "And does it not seem hard to you,\n",
    "When all the sky is clear and blue,\n",
    "And I should like so much to play,\n",
    "To have to go to bed by day?\n",
    "'''.split('\\n')\n",
    "    # text from http://www.bygosh.com/Features/082000/rhymes.htm\n",
    "\n",
    "    # YOUR CODE HERE #\n",
    "\n",
    "    return d\n",
    "\n",
    "def generate_line(d):\n",
    "    '''\n",
    "    Generates a random sentence based on the dictionary\n",
    "    with transition pairs\n",
    "\n",
    "    Note that the first state is BEGIN but that we\n",
    "    obviously do not want to return BEGIN\n",
    "\n",
    "    Some sample output based on the placeholder text:\n",
    "    'i have to go to go to go to go to play,'\n",
    "\n",
    "    Hint: use random.choice to select a random element from a list\n",
    "    '''\n",
    "\n",
    "    # YOUR CODE HERE #\n",
    "\n",
    "    pass\n",
    "\n",
    "if __name__ == '__main__':\n",
    "    if len(sys.argv) != 2:\n",
    "        print 'ERROR: Run as python markov.py <filename>'\n",
    "        exit()\n",
    "\n",
    "    d = process_textfile(sys.argv[1])\n",
    "    print generate_line(d)"
   ]
  },
  {
   "cell_type": "markdown",
   "id": "c8bbc80f",
   "metadata": {},
   "source": [
    "# Exercise 6.5"
   ]
  },
  {
   "cell_type": "code",
   "execution_count": 29,
   "id": "042d4b9f",
   "metadata": {},
   "outputs": [
    {
     "name": "stdout",
     "output_type": "stream",
     "text": [
      "[1.0, 0.0, 3.0, 2.0, 3.0, 5.0]\n",
      "[1.0, 0.0, 3.0, 2.0, 3.0, 5.0]\n",
      "[1.0, 0.0, 3.0, 2.0, 3.0, 5.0]\n"
     ]
    }
   ],
   "source": [
    "dv1 = [1.0, 0.0, 3.0]\n",
    "dv2 = [2.0, 3.0, 5.0]\n",
    "def vadd(d1,d2):\n",
    "    for x,y in zip(d1,d2):\n",
    "        print(d1+d2)\n",
    "vadd(dv1,dv2)\n"
   ]
  },
  {
   "cell_type": "markdown",
   "id": "cb8d31ce",
   "metadata": {},
   "source": [
    "# Exercise 6.6"
   ]
  }
 ],
 "metadata": {
  "kernelspec": {
   "display_name": "Python 3 (ipykernel)",
   "language": "python",
   "name": "python3"
  },
  "language_info": {
   "codemirror_mode": {
    "name": "ipython",
    "version": 3
   },
   "file_extension": ".py",
   "mimetype": "text/x-python",
   "name": "python",
   "nbconvert_exporter": "python",
   "pygments_lexer": "ipython3",
   "version": "3.9.7"
  }
 },
 "nbformat": 4,
 "nbformat_minor": 5
}
