{
 "cells": [
  {
   "cell_type": "markdown",
   "id": "1b3dcfb5",
   "metadata": {},
   "source": [
    "# Exercise 9.1"
   ]
  },
  {
   "cell_type": "code",
   "execution_count": 21,
   "id": "4ded8d6c",
   "metadata": {},
   "outputs": [],
   "source": [
    "import numpy\n",
    "import random\n",
    "from scipy.linalg import toeplitz\n",
    "import scipy"
   ]
  },
  {
   "cell_type": "code",
   "execution_count": 22,
   "id": "518f28d4",
   "metadata": {},
   "outputs": [],
   "source": [
    "n = 200\n",
    "m = 500\n",
    "\n",
    "A = np.random.normal(size=(n,m))\n",
    "B = toeplitz(np.random.random((m)), np.random.random((m))) "
   ]
  },
  {
   "cell_type": "code",
   "execution_count": 23,
   "id": "e9656763",
   "metadata": {},
   "outputs": [
    {
     "name": "stdout",
     "output_type": "stream",
     "text": [
      "[[-1.34263713  1.99690138 -0.0737783  ... -2.04957499  0.41447315\n",
      "  -0.92307136]\n",
      " [-0.2072353  -1.33376356  1.37373623 ...  0.63330064  0.94077514\n",
      "   0.91097839]\n",
      " [-0.57363808  0.44166313 -1.2087839  ...  1.02361946 -2.50993729\n",
      "   0.73424723]\n",
      " ...\n",
      " [-1.34373058 -0.00543105 -0.01932589 ... -1.15597764  0.52581217\n",
      "   1.71747163]\n",
      " [-0.87797503  0.01532708 -1.67283604 ... -0.49338978  1.55336895\n",
      "   1.45529218]\n",
      " [ 0.5255342  -1.09259204 -1.28945023 ...  0.10808924 -1.63934136\n",
      "  -0.55282609]]\n"
     ]
    }
   ],
   "source": [
    "print(A)"
   ]
  },
  {
   "cell_type": "code",
   "execution_count": 24,
   "id": "00c8ea47",
   "metadata": {},
   "outputs": [
    {
     "name": "stdout",
     "output_type": "stream",
     "text": [
      "[[-2.68527425  3.99380276 -0.14755659 ... -4.09914998  0.82894629\n",
      "  -1.84614271]\n",
      " [-0.41447061 -2.66752713  2.74747246 ...  1.26660128  1.88155028\n",
      "   1.82195678]\n",
      " [-1.14727615  0.88332626 -2.4175678  ...  2.04723892 -5.01987458\n",
      "   1.46849446]\n",
      " ...\n",
      " [-2.68746116 -0.01086211 -0.03865178 ... -2.31195527  1.05162433\n",
      "   3.43494326]\n",
      " [-1.75595006  0.03065417 -3.34567209 ... -0.98677957  3.1067379\n",
      "   2.91058436]\n",
      " [ 1.0510684  -2.18518407 -2.57890045 ...  0.21617848 -3.27868273\n",
      "  -1.10565217]]\n"
     ]
    }
   ],
   "source": [
    "AaddA = A + A\n",
    "print(AaddA)\n"
   ]
  },
  {
   "cell_type": "code",
   "execution_count": 25,
   "id": "cd44bc0b",
   "metadata": {},
   "outputs": [
    {
     "name": "stdout",
     "output_type": "stream",
     "text": [
      "[[542.93226085  -6.63681468 -50.40047657 ...  -1.45567214  -2.0245451\n",
      "   10.67496958]\n",
      " [ -6.63681468 550.55805298  33.81877919 ... -41.18966575 -16.04916307\n",
      "  -13.29901   ]\n",
      " [-50.40047657  33.81877919 493.81937072 ... -39.74777603  10.0808501\n",
      "   -2.04837185]\n",
      " ...\n",
      " [ -1.45567214 -41.18966575 -39.74777603 ... 524.5322656    3.81360525\n",
      "    6.27168453]\n",
      " [ -2.0245451  -16.04916307  10.0808501  ...   3.81360525 486.17169844\n",
      "   30.7736833 ]\n",
      " [ 10.67496958 -13.29901     -2.04837185 ...   6.27168453  30.7736833\n",
      "  438.50652601]]\n"
     ]
    }
   ],
   "source": [
    "AT=A.transpose()\n",
    "AI1 = np.dot(A, AT)\n",
    "print(AI1)"
   ]
  },
  {
   "cell_type": "code",
   "execution_count": 26,
   "id": "1efbc251",
   "metadata": {},
   "outputs": [
    {
     "name": "stdout",
     "output_type": "stream",
     "text": [
      "[[226.66535509   1.00286819  -5.42756838 ...  28.2787395  -13.16451254\n",
      "   23.13895629]\n",
      " [  1.00286819 171.13493089   4.66495542 ...   9.5740026  -12.17941685\n",
      "  -14.15729826]\n",
      " [ -5.42756838   4.66495542 236.98742984 ...   2.74015441  -7.9389651\n",
      "  -10.04766237]\n",
      " ...\n",
      " [ 28.2787395    9.5740026    2.74015441 ... 207.44102195  -4.91853237\n",
      "   -4.75222942]\n",
      " [-13.16451254 -12.17941685  -7.9389651  ...  -4.91853237 202.62960359\n",
      "   23.18055904]\n",
      " [ 23.13895629 -14.15729826 -10.04766237 ...  -4.75222942  23.18055904\n",
      "  204.50062807]]\n"
     ]
    }
   ],
   "source": [
    "AI2 = np.dot(AT,A )\n",
    "print(AI2)"
   ]
  },
  {
   "cell_type": "code",
   "execution_count": 27,
   "id": "9a30348f",
   "metadata": {},
   "outputs": [
    {
     "name": "stdout",
     "output_type": "stream",
     "text": [
      "[[ 21.67863885   4.61072396  13.51211633 ...  11.36052427  21.91193784\n",
      "   19.15418778]\n",
      " [ 16.58873538  18.44615191  15.848403   ...  16.45613187  16.89153579\n",
      "   15.71069573]\n",
      " [  6.11952146   2.22747041  -7.37498997 ...  -6.2053247    0.85879592\n",
      "   13.57818305]\n",
      " ...\n",
      " [-32.74771824 -29.9883656  -34.12623225 ... -33.13966685 -21.91114461\n",
      "  -24.20751545]\n",
      " [ -4.19946181  -9.58032643   2.42774232 ...  -7.02449901   0.44894425\n",
      "  -10.63079486]\n",
      " [ 18.05116844  15.14448607  16.03780829 ...  16.27707463  24.49228563\n",
      "   15.35414485]]\n"
     ]
    }
   ],
   "source": [
    "AB = np.dot(A,B)\n",
    "print(AB)"
   ]
  },
  {
   "cell_type": "markdown",
   "id": "5f2b225f",
   "metadata": {},
   "source": [
    "# Exercise 9.2"
   ]
  },
  {
   "cell_type": "code",
   "execution_count": 28,
   "id": "b9f7b62c",
   "metadata": {
    "scrolled": true
   },
   "outputs": [
    {
     "data": {
      "text/plain": [
       "array([[-137.26016669, -154.32808159, -145.42668921, ..., -147.57828127,\n",
       "        -137.0268677 , -139.78461776],\n",
       "       [-141.95396757, -140.09655104, -142.69429995, ..., -142.08657108,\n",
       "        -141.65116716, -142.83200722],\n",
       "       [ -14.78321955,  -18.6752706 ,  -28.27773098, ...,  -27.10806572,\n",
       "         -20.04394509,   -7.32455796],\n",
       "       ...,\n",
       "       [ 221.38541642,  224.14476905,  220.00690241, ...,  220.99346781,\n",
       "         232.22199005,  229.92561921],\n",
       "       [  11.89614285,    6.51527823,   18.52334698, ...,    9.07110565,\n",
       "          16.54454891,    5.4648098 ],\n",
       "       [-148.92783224, -151.83451461, -150.94119238, ..., -150.70192605,\n",
       "        -142.48671504, -151.62485583]])"
      ]
     },
     "execution_count": 28,
     "metadata": {},
     "output_type": "execute_result"
    }
   ],
   "source": [
    "def fun1(A, B, entry):\n",
    "    return np.dot(A, B-entry* np.ones(dtype=int, shape = B.shape))\n",
    "fun1(A,B,5)"
   ]
  },
  {
   "cell_type": "markdown",
   "id": "5cabac88",
   "metadata": {},
   "source": [
    "# Exercise 9.3"
   ]
  },
  {
   "cell_type": "code",
   "execution_count": 31,
   "id": "f21b2622",
   "metadata": {},
   "outputs": [
    {
     "name": "stdout",
     "output_type": "stream",
     "text": [
      "Frobenius norm of A: 315.4484591898891\n",
      "inﬁnity norm of B: 261.4973584901869\n",
      "The largest singular of B: 254.08254242542944\n",
      "The smallest singular of B: 0.052753573324132656\n"
     ]
    }
   ],
   "source": [
    "print(\"Frobenius norm of A:\", np.linalg.norm(A, ord = 'fro'))\n",
    "print(\"inﬁnity norm of B:\", np.linalg.norm(B, ord = np.inf))\n",
    "print(\"The largest singular of B:\", max(np.linalg.svd(B, True, False)))\n",
    "print(\"The smallest singular of B:\", min(np.linalg.svd(B, True, False)))"
   ]
  },
  {
   "cell_type": "markdown",
   "id": "7f8e3398",
   "metadata": {},
   "source": [
    "# Exercise 9.4\n"
   ]
  },
  {
   "cell_type": "code",
   "execution_count": null,
   "id": "8c0b020c",
   "metadata": {},
   "outputs": [],
   "source": []
  },
  {
   "cell_type": "markdown",
   "id": "e13b869d",
   "metadata": {},
   "source": [
    "# Exercise 9.5\n"
   ]
  },
  {
   "cell_type": "code",
   "execution_count": 33,
   "id": "6ccd22dd",
   "metadata": {},
   "outputs": [
    {
     "name": "stdout",
     "output_type": "stream",
     "text": [
      "100\n",
      "n*p= 50.0\n",
      "s.max()= 51.864567186265525\n"
     ]
    }
   ],
   "source": [
    "import scipy\n",
    "p = 0.5\n",
    "C = np.where(np.random.random((n,n)) < p, 1, 0)\n",
    "U, s, V = scipy.linalg.svd(C)\n",
    "print(n)\n",
    "print(\"n*p=\",p*n)\n",
    "print(\"s.max()=\",s.max())"
   ]
  },
  {
   "cell_type": "markdown",
   "id": "633341a5",
   "metadata": {},
   "source": [
    "#  Exercise 9.6\n"
   ]
  },
  {
   "cell_type": "code",
   "execution_count": 40,
   "id": "5968a4d5",
   "metadata": {},
   "outputs": [
    {
     "name": "stdout",
     "output_type": "stream",
     "text": [
      "2.340428187295265\n"
     ]
    }
   ],
   "source": [
    "def closest(z, A):\n",
    "    return A[np.fabs(A - z).argmin()]\n",
    "\n",
    "z = 3\n",
    "A = np.random.random(10) * 10\n",
    "print (closest(z, A))"
   ]
  },
  {
   "cell_type": "code",
   "execution_count": null,
   "id": "e02ed53f",
   "metadata": {},
   "outputs": [],
   "source": []
  }
 ],
 "metadata": {
  "kernelspec": {
   "display_name": "Python 3 (ipykernel)",
   "language": "python",
   "name": "python3"
  },
  "language_info": {
   "codemirror_mode": {
    "name": "ipython",
    "version": 3
   },
   "file_extension": ".py",
   "mimetype": "text/x-python",
   "name": "python",
   "nbconvert_exporter": "python",
   "pygments_lexer": "ipython3",
   "version": "3.9.7"
  }
 },
 "nbformat": 4,
 "nbformat_minor": 5
}
